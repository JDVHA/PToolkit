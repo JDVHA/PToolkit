{
 "cells": [
  {
   "cell_type": "code",
   "execution_count": 4,
   "metadata": {},
   "outputs": [],
   "source": [
    "import matplotlib.pyplot as plt\n",
    "from PIL import Image\n",
    "import matplotlib"
   ]
  },
  {
   "cell_type": "code",
   "execution_count": 2,
   "metadata": {},
   "outputs": [
    {
     "data": {
      "image/png": "[encoded data removed]",
      "text/plain": [
       "<Figure size 250x250 with 1 Axes>"
      ]
     },
     "metadata": {},
     "output_type": "display_data"
    }
   ],
   "source": [
    "fig, ax = plt.subplots(1, 1)\n",
    "\n",
    "ax.arrow(0, 0.5, 1, 0, length_includes_head=True, head_width=1, head_length=0.5, width=0.5, color=\"gray\")\n",
    "ax.set_ylim(0, 1)\n",
    "ax.set_xlim(0, 1)\n",
    "ax.axis(\"off\")\n",
    "fig.set_size_inches(2.5, 2.5)\n",
    "plt.savefig(\"rightarrow.png\", dpi=100)"
   ]
  },
  {
   "cell_type": "code",
   "execution_count": 22,
   "metadata": {},
   "outputs": [],
   "source": [
    "rightarrow = Image.open(\"rightarrow.png\")\n",
    "leftarrow = rightarrow.rotate(180)\n",
    "toparrow = rightarrow.rotate(90)\n",
    "downarrow = rightarrow.rotate(-90)\n",
    "\n",
    "toprightarrow = rightarrow.rotate(45)\n",
    "topleftarrow = rightarrow.rotate(45+90)\n",
    "downrightarrow = rightarrow.rotate(-45)\n",
    "downleftarrow = rightarrow.rotate(-45-90)"
   ]
  },
  {
   "cell_type": "code",
   "execution_count": 23,
   "metadata": {},
   "outputs": [],
   "source": [
    "leftarrow.save(\"leftarrow.png\")\n",
    "toparrow.save(\"toparrow.png\")\n",
    "downarrow.save(\"downarrow.png\")\n",
    "\n",
    "toprightarrow.save(\"toprightarrow.png\")\n",
    "topleftarrow.save(\"topleftarrow.png\")\n",
    "downrightarrow.save(\"downrightarrow.png\")\n",
    "downleftarrow.save(\"downleftarrow.png\")"
   ]
  },
  {
   "cell_type": "code",
   "execution_count": 24,
   "metadata": {},
   "outputs": [
    {
     "data": {
      "image/png": "[encoded data removed]",
      "text/plain": [
       "<Figure size 250x250 with 1 Axes>"
      ]
     },
     "metadata": {},
     "output_type": "display_data"
    }
   ],
   "source": [
    "fig, ax = plt.subplots(1, 1)\n",
    "\n",
    "matplotlib.rcParams.update({'font.size': 40, 'font.weight' : 'bold'})\n",
    "ax.text(0.5, 0.5, \"Home\", va=\"center\", ha=\"center\", color=\"tab:gray\")\n",
    "ax.set_ylim(0, 1)\n",
    "ax.set_xlim(0, 1)\n",
    "ax.axis(\"off\")\n",
    "fig.set_size_inches(2.5, 2.5)\n",
    "plt.savefig(\"homebutton.png\", dpi=100)"
   ]
  }
 ],
 "metadata": {
  "kernelspec": {
   "display_name": "Python 3",
   "language": "python",
   "name": "python3"
  },
  "language_info": {
   "codemirror_mode": {
    "name": "ipython",
    "version": 3
   },
   "file_extension": ".py",
   "mimetype": "text/x-python",
   "name": "python",
   "nbconvert_exporter": "python",
   "pygments_lexer": "ipython3",
   "version": "3.9.5"
  }
 },
 "nbformat": 4,
 "nbformat_minor": 2
}
